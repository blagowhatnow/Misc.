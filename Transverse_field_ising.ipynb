{
 "cells": [
  {
   "cell_type": "code",
   "execution_count": 68,
   "id": "b7c80812",
   "metadata": {},
   "outputs": [],
   "source": [
    "import numpy as np\n",
    "import matplotlib.pyplot as plt\n",
    "\n",
    "def energy(config, J, h, n):\n",
    "    \"\"\" Compute the energy of a configuration of spins \"\"\"\n",
    "    # Interaction energy: -J * sum(s_i * s_{i+1})\n",
    "    interaction_energy = -J * np.sum(config[:-1] * config[1:])\n",
    "    # Transverse field energy: -h * sum(s_i)\n",
    "    transverse_field_energy = -h * np.sum(config)\n",
    "    return interaction_energy + transverse_field_energy\n",
    "\n",
    "def metropolis_update(config, J, h, n):\n",
    "    \"\"\" Perform one Metropolis-Hastings update: flip a single spin \"\"\"\n",
    "    # Pick a random spin index\n",
    "    i = np.random.randint(n)\n",
    "    \n",
    "    # Flip the spin\n",
    "    new_config = config.copy()\n",
    "    new_config[i] = -new_config[i]\n",
    "    \n",
    "    # Calculate energy change\n",
    "    delta_E = energy(new_config, J, h, n) - energy(config, J, h, n)\n",
    "    \n",
    "    # Metropolis criterion: accept the flip if the energy decreases, or with probability e^(-delta_E)\n",
    "    if delta_E < 0 or np.random.rand() < np.exp(-delta_E):\n",
    "        return new_config  # Accept the new configuration\n",
    "    else:\n",
    "        return config  # Reject the new configuration, keep the old one\n",
    "\n",
    "def monte_carlo_simulation(n, J, h, num_steps, num_samples):\n",
    "    \"\"\" Perform a Monte Carlo simulation of the transverse field Ising model \"\"\"\n",
    "    # Random initial configuration of spins (1 or -1)\n",
    "    config = np.random.choice([-1, 1], size=n)\n",
    "    \n",
    "    # Store the number of up spins (config == 1) in each sample\n",
    "    up_spins = np.zeros(num_samples)\n",
    "    \n",
    "    # Equilibration phase: discard the first half of steps\n",
    "    equilibration_steps = num_steps // 2\n",
    "    \n",
    "    # Sampling phase\n",
    "    sample_count = 0  # To keep track of how many samples we've collected\n",
    "\n",
    "    # Monte Carlo sampling\n",
    "    for step in range(num_steps):\n",
    "        config = metropolis_update(config, J, h, n)\n",
    "        \n",
    "        # After equilibration, start recording the number of up spins\n",
    "        if step >= equilibration_steps and sample_count < num_samples:\n",
    "            up_spins[sample_count] = np.sum(config == 1)\n",
    "            sample_count += 1\n",
    "    \n",
    "    return up_spins\n",
    "\n",
    "def compute_probability_distribution(up_spins, n):\n",
    "    \"\"\" Compute the probability distribution of the number of up spins \"\"\"\n",
    "    # Create bins based on the number of up spins (0 to n up spins)\n",
    "    bins = np.arange(n + 1)\n",
    "    \n",
    "    # Compute the histogram of the number of up spins\n",
    "    hist, _ = np.histogram(up_spins, bins=bins, density=True)\n",
    "    \n",
    "    return hist\n",
    "\n",
    "# Example parameters\n",
    "n = 10  # Number of spins\n",
    "J = 0.05  # Interaction strength\n",
    "h = 0.731  # Transverse field strength\n",
    "num_steps = 100000  # Total number of Monte Carlo steps\n",
    "num_samples = 10000  # Number of samples to collect\n",
    "\n",
    "# Perform the Monte Carlo simulation\n",
    "up_spins = monte_carlo_simulation(n, J, h, num_steps, num_samples)\n",
    "\n",
    "# Compute the probability distribution\n",
    "probabilities_per_bin = compute_probability_distribution(up_spins, n)"
   ]
  },
  {
   "cell_type": "code",
   "execution_count": 69,
   "id": "b74a733c",
   "metadata": {},
   "outputs": [
    {
     "data": {
      "image/png": "[encoded data removed]",
      "text/plain": [
       "<Figure size 640x480 with 1 Axes>"
      ]
     },
     "metadata": {},
     "output_type": "display_data"
    }
   ],
   "source": [
    "# Plot the probability distribution\n",
    "plt.bar(np.arange(n), probabilities_per_bin, width=0.8, align='center')\n",
    "plt.xlabel('Number of Up Spins')\n",
    "plt.ylabel('Probability')\n",
    "plt.title('Monte Carlo Simulation of Transverse Field Ising Model')\n",
    "plt.show()"
   ]
  },
  {
   "cell_type": "code",
   "execution_count": 67,
   "id": "9e1df48c",
   "metadata": {},
   "outputs": [
    {
     "data": {
      "text/plain": [
       "1.0"
      ]
     },
     "execution_count": 67,
     "metadata": {},
     "output_type": "execute_result"
    }
   ],
   "source": [
    "sum(probabilities_per_bin)"
   ]
  }
 ],
 "metadata": {
  "kernelspec": {
   "display_name": "Python 3 (ipykernel)",
   "language": "python",
   "name": "python3"
  },
  "language_info": {
   "codemirror_mode": {
    "name": "ipython",
    "version": 3
   },
   "file_extension": ".py",
   "mimetype": "text/x-python",
   "name": "python",
   "nbconvert_exporter": "python",
   "pygments_lexer": "ipython3",
   "version": "3.9.16"
  }
 },
 "nbformat": 4,
 "nbformat_minor": 5
}
